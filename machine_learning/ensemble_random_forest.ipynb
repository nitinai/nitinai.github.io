{
 "cells": [
  {
   "cell_type": "markdown",
   "metadata": {},
   "source": [
    "---\n",
    "title: \"Ensemble, bagging and random forest\"\n",
    "date: 2019-01-25T19:14:46+05:30\n",
    "draft: False\n",
    "author: \"Nitin Patil\"\n",
    "\n",
    "---"
   ]
  },
  {
   "cell_type": "markdown",
   "metadata": {},
   "source": [
    "# Ensemble\n",
    "\n",
    "An ensemble is a set of elements that collectively contribute to a whole. A familiar example is a musical ensemble, which blends the sounds of several musical instruments to create harmony, or architectural ensembles. In ensembles, the (whole) harmonious outcome is more important than the performance of any individual part.\n",
    "\n",
    "In machine learning the goal of ensembling is to combine the predictions of several base estimators built with a given learning algorithm in order to improve generalizability / robustness over a single estimator.\n",
    "\n",
    "\n",
    "Two broad ensemble methods are:\n",
    "\n",
    "1. Averaging methods: the basic principle is to build several estimators independently and then to average their predictions. On average, the combined estimator is usually better than any of the single base estimator because its variance is reduced.\n",
    "\n",
    "Examples: Bagging methods, Forests of randomized trees, …\n",
    "\n",
    "2. Boosting methods:\n",
    "base estimators are built sequentially and one tries to reduce the bias of the combined estimator. The motivation is to combine several weak models to produce a powerful ensemble.\n",
    "\n",
    "Examples: AdaBoost, Gradient Tree Boosting, …"
   ]
  },
  {
   "cell_type": "markdown",
   "metadata": {},
   "source": [
    "# Bias-Variance Decomposition"
   ]
  },
  {
   "cell_type": "markdown",
   "metadata": {},
   "source": [
    "<img src=\"bias_variance.png\" width=\"480\">"
   ]
  },
  {
   "cell_type": "markdown",
   "metadata": {},
   "source": [
    "# Bagging"
   ]
  },
  {
   "cell_type": "markdown",
   "metadata": {},
   "source": [
    "In bagging we build several instances of black-box estimator on random subsets of training data and then aggregate their idividual predictions to form a final prediction.\n",
    "\n",
    "As bagging provide a way to reduce overfitting (variance), by introducing randomization while base model creation, bagging methods works best with strong and complex models like fully developed decision trees. In contrast boosting methods usually works best with weak models like shallow decision trees.\n",
    "\n",
    "The efficiency of bagging comes from the fact that the individual models are quite different due to the different training data and their errors cancel each other out during voting. Additionally, outliers are likely omitted in some of the training bootstrap samples.\n",
    "\n",
    "Scikit-learn offers bagging meta-estimator ([BaggingClassifier](https://scikit-learn.org/stable/modules/generated/sklearn.ensemble.BaggingClassifier.html#sklearn.ensemble.BaggingClassifier) and [BaggingRegressor](https://scikit-learn.org/stable/modules/generated/sklearn.ensemble.BaggingRegressor.html#sklearn.ensemble.BaggingRegressor)), which takes user-specified base estimator as input . It also takes parameters like `max_samples` and `max_features` to draw random subsets of samples. Parameters `bootstrap` and `bootstrap_features` control whether samples and features are drawn with or without replacement. When using bootstrap sampling the generalization accuracy can be estimated on the left out or out-of-bag samples. This can be enabled by setting `oob_score=True`."
   ]
  },
  {
   "cell_type": "code",
   "execution_count": 56,
   "metadata": {},
   "outputs": [],
   "source": [
    "# Bagging KNN estimator for bootstrap samples of 50% of actual and \n",
    "# random 50% of features\n",
    "from sklearn.ensemble import BaggingClassifier\n",
    "from sklearn.neighbors import KNeighborsClassifier\n",
    "bagging = BaggingClassifier(KNeighborsClassifier(),\n",
    "                            max_samples=0.5, max_features=0.5,\n",
    "                            bootstrap=True)"
   ]
  },
  {
   "cell_type": "markdown",
   "metadata": {},
   "source": [
    "## Bootstrapping"
   ]
  },
  {
   "cell_type": "markdown",
   "metadata": {},
   "source": [
    "Generate sub-sample of size same as the original input sample size with replacement i.e. with repeated occurrences of individual observations.\n",
    "\n",
    "Suppose you have a basket of $N$ balls marked with unique id. You randomly picked one ball out of them. Note down the ball id. Then put the ball back in basket. Do this process $N$ times. At every selection each ball has an equal probability of being selected which is $\\frac{1}{N}$. At the end you have a sample of size $N$ but some of them are duplicated.\n",
    "\n",
    "Approximately 63% of data gets selected in bootstrap sample and the left out 37% data can be used for validation with `oob_score` parameter."
   ]
  },
  {
   "cell_type": "code",
   "execution_count": null,
   "metadata": {},
   "outputs": [],
   "source": [
    "# Sub-sample with replacement\n",
    ">>> np.random.seed(RANDOM_STATE)\n",
    ">>> np.random.randint(0, 10, 10)\n",
    "array([1, 6, 6, 9, 0, 6, 4, 7, 4, 7])\n",
    "\n",
    "# Sub-sample with replacement\n",
    ">>> np.random.seed(RANDOM_STATE)\n",
    ">>> np.random.choice(range(10), 10, replace=True)\n",
    "array([1, 6, 6, 9, 0, 6, 4, 7, 4, 7])\n",
    "\n",
    "# Sub-sample without replacement\n",
    ">>> np.random.seed(RANDOM_STATE)\n",
    ">>> np.random.choice(range(10), 10, replace=False)\n",
    "array([7, 2, 5, 3, 4, 0, 9, 8, 6, 1])"
   ]
  },
  {
   "cell_type": "markdown",
   "metadata": {},
   "source": [
    "## Random forest"
   ]
  },
  {
   "cell_type": "markdown",
   "metadata": {},
   "source": [
    "A random forest bags number of decision trees. Sub-samples are drawn with replacement keeping their size same as the original input sample size. Sub-samples have random subset of features. \n",
    "\n",
    "As a result of this randomness, the bias of the forest usually slightly increases (with respect to the bias of a single non-random tree) but, due to averaging, its variance also decreases, usually more than compensating for the increase in bias, hence yielding an overall better model.\n",
    "\n",
    "The scikit-learn implementation combines classifiers by averaging their probabilistic prediction, instead of letting each classifier vote for a single class."
   ]
  },
  {
   "cell_type": "markdown",
   "metadata": {},
   "source": [
    "## Extremely Randomized Trees"
   ]
  },
  {
   "cell_type": "markdown",
   "metadata": {},
   "source": [
    "It differs with Random forest in the way tree splits are computed. The split thresholds are drawn at random for each candidate feature and the best of these randomly-generated thresholds is picked as the splitting rule. This usually allows to reduce the variance of the model a bit more, at the expense of a slightly greater increase in bias."
   ]
  },
  {
   "cell_type": "markdown",
   "metadata": {},
   "source": [
    "## Parameters\n",
    "\n",
    "Important parameters to adjust when using these methods"
   ]
  },
  {
   "cell_type": "markdown",
   "metadata": {},
   "source": [
    "- `n_estimators` - number of trees in the forest\n",
    "- `max_features` - size of the random subsets of features to consider when splitting a node. The lower the greater the reduction of variance, but also the greater the increase in bias.\n",
    "- `max_depth` - The maximum depth of the tree\n",
    "- `min_samples_split` - The minimum number of samples required to split an internal node"
   ]
  },
  {
   "cell_type": "markdown",
   "metadata": {},
   "source": [
    "## Feature importance\n",
    "Feature used at the top node splits are relative more importance than the bottom node split features.\n"
   ]
  },
  {
   "cell_type": "markdown",
   "metadata": {},
   "source": [
    "## Random Forest implementation"
   ]
  },
  {
   "cell_type": "code",
   "execution_count": 5,
   "metadata": {},
   "outputs": [],
   "source": [
    "import numpy as np\n",
    "import pandas as pd\n",
    "from matplotlib import pyplot as plt\n",
    "from sklearn.base import BaseEstimator\n",
    "from sklearn.datasets import make_classification\n",
    "from sklearn.model_selection import train_test_split\n",
    "from sklearn.metrics import accuracy_score"
   ]
  },
  {
   "cell_type": "code",
   "execution_count": 6,
   "metadata": {},
   "outputs": [],
   "source": [
    "from sklearn.tree import DecisionTreeClassifier"
   ]
  },
  {
   "cell_type": "code",
   "execution_count": null,
   "metadata": {},
   "outputs": [],
   "source": [
    "# we will use our Decision Tree\n",
    "from mllearn import tree"
   ]
  },
  {
   "cell_type": "code",
   "execution_count": 57,
   "metadata": {},
   "outputs": [],
   "source": [
    "RANDOM_STATE=17"
   ]
  },
  {
   "cell_type": "code",
   "execution_count": 45,
   "metadata": {},
   "outputs": [],
   "source": [
    "class RandomForest(BaseEstimator):\n",
    "    def __init__(self, n_estimators=10, max_depth=10, max_features=10, \n",
    "                 random_state=RANDOM_STATE, debug=False):\n",
    "        self.n_estimators = n_estimators\n",
    "        self.max_depth = max_depth\n",
    "        self.max_features = max_features\n",
    "        self.random_state = random_state\n",
    "        self.debug = debug\n",
    "        \n",
    "        self.trees = []\n",
    "        self.feat_ids_by_tree = []\n",
    "        \n",
    "\n",
    "    def fit(self, X, y):\n",
    "        \n",
    "        if isinstance(X, pd.core.frame.DataFrame):\n",
    "            X = X.values\n",
    "            \n",
    "        if isinstance(y, pd.Series):\n",
    "            y = y.values\n",
    "        \n",
    "        # Validate features count\n",
    "        assert(X.shape[1] >=  self.max_features)\n",
    "        \n",
    "        for i in range(self.n_estimators):\n",
    "            np.random.seed(self.random_state+i)\n",
    "            \n",
    "            # select max_features features without replacement (means without repeated occurrence of feature)\n",
    "            feat_indices = np.random.choice(range(X.shape[1]), size=self.max_features, replace=False)\n",
    "            self.feat_ids_by_tree.append(feat_indices)\n",
    "            if self.debug: print(f'Tree {i+1} feature indices : {feat_indices}')\n",
    "            \n",
    "            # make a bootstrap sample (i.e. sampling with replacement, means repeated occurrence of instances)\n",
    "            # of training instances.\n",
    "            indices = list(np.random.choice(X.shape[0], size=X.shape[0], replace=True))\n",
    "            sample = X[indices,:][:,feat_indices] # [indices,:] - get specific rows with all columns\n",
    "                                                  # [:,feat_indices] - then get specific columns keeping all rows\n",
    "            if self.debug: print(f'Tree {i+1} X shape : {sample.shape}')\n",
    "            \n",
    "            tree = DecisionTreeClassifier(max_depth=self.max_depth)\n",
    "            tree.fit(sample, y[indices])\n",
    "            self.trees.append(tree)\n",
    "            \n",
    "        return self\n",
    "    \n",
    "    def predict_proba(self, X):\n",
    "        # You code here\n",
    "        if isinstance(X, pd.core.frame.DataFrame):\n",
    "            X = X.values\n",
    "            \n",
    "        prob = []\n",
    "        for i, tree in enumerate(self.trees):\n",
    "            p = tree.predict_proba(X[:, self.feat_ids_by_tree[i]])\n",
    "            if self.debug: print(f'Tree {i+1} prob shape : {p.shape}')\n",
    "            prob.append(p)\n",
    "            \n",
    "        return np.mean(prob, axis=0)"
   ]
  },
  {
   "cell_type": "markdown",
   "metadata": {},
   "source": [
    "### Test the implementation"
   ]
  },
  {
   "cell_type": "code",
   "execution_count": 42,
   "metadata": {},
   "outputs": [],
   "source": [
    "X_train, X_test, y_train, y_test = classification_dataset()"
   ]
  },
  {
   "cell_type": "code",
   "execution_count": 41,
   "metadata": {},
   "outputs": [],
   "source": [
    "def classification_dataset():\n",
    "    ''' Prepare a synthetic data for classification '''\n",
    "    X, y = make_classification(n_features=2, n_redundant=0, n_samples=400,\n",
    "                            random_state=RANDOM_STATE)\n",
    "\n",
    "    X_train, X_test, y_train, y_test = train_test_split(X, y, test_size=0.3,\n",
    "                                                    random_state=RANDOM_STATE)\n",
    "\n",
    "    return X_train, X_test, y_train, y_test"
   ]
  },
  {
   "cell_type": "code",
   "execution_count": 43,
   "metadata": {},
   "outputs": [],
   "source": [
    "def print_results_rf(model):\n",
    "    prob_pred = model.predict_proba(X_test)\n",
    "    y_pred = np.argmax(prob_pred,axis=1)\n",
    "    accuracy = accuracy_score(y_test, y_pred)\n",
    "\n",
    "    print(\"Accuracy:\", accuracy)\n",
    "\n",
    "    if (sum(np.argmax(prob_pred,axis=1) - y_pred) == 0):\n",
    "        print('predict_proba works!')\n",
    "\n",
    "    plt.suptitle(\"Accuracy = {0:.2f}\".format(accuracy))\n",
    "    plt.subplot(121)\n",
    "    plt.scatter(X_test[:, 0], X_test[:, 1], c=y_pred, cmap=plt.cm.coolwarm)\n",
    "    plt.title('Predicted class labels')\n",
    "    plt.axis('equal')\n",
    "    plt.subplot(122)\n",
    "    plt.scatter(X_test[:, 0], X_test[:, 1], c=y_test, cmap=plt.cm.coolwarm)\n",
    "    plt.title('True class labels')\n",
    "    plt.axis('equal');"
   ]
  },
  {
   "cell_type": "code",
   "execution_count": 44,
   "metadata": {
    "scrolled": false
   },
   "outputs": [
    {
     "name": "stdout",
     "output_type": "stream",
     "text": [
      "Accuracy: 0.8666666666666667\n",
      "predict_proba works!\n"
     ]
    },
    {
     "data": {
      "image/png": "[encoded data removed]",
      "text/plain": [
       "<Figure size 432x288 with 2 Axes>"
      ]
     },
     "metadata": {},
     "output_type": "display_data"
    }
   ],
   "source": [
    "rf = RandomForest(n_estimators=10, max_depth=7, max_features=2, random_state=RANDOM_STATE)\n",
    "rf.fit(X_train, y_train)\n",
    "print_results_rf(rf)"
   ]
  },
  {
   "cell_type": "markdown",
   "metadata": {},
   "source": [
    "## References\n",
    "\n",
    "- https://mlcourse.ai/\n",
    "- https://scikit-learn.org/stable/modules/ensemble.html"
   ]
  }
 ],
 "metadata": {
  "kernelspec": {
   "display_name": "Python 3",
   "language": "python",
   "name": "python3"
  },
  "language_info": {
   "codemirror_mode": {
    "name": "ipython",
    "version": 3
   },
   "file_extension": ".py",
   "mimetype": "text/x-python",
   "name": "python",
   "nbconvert_exporter": "python",
   "pygments_lexer": "ipython3",
   "version": "3.6.5"
  }
 },
 "nbformat": 4,
 "nbformat_minor": 2
}
