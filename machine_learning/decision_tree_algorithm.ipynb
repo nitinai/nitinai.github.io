{
 "cells": [
  {
   "cell_type": "markdown",
   "metadata": {},
   "source": [
    "---\n",
    "title: \"Decision tree algorithm\"\n",
    "date: 2019-01-25T19:14:46+05:30\n",
    "draft: False\n",
    "author: \"Nitin Patil\"\n",
    "\n",
    "---"
   ]
  },
  {
   "cell_type": "markdown",
   "metadata": {},
   "source": [
    "Here we will implement the Decision Tree algorithm and compare our algorithm's performance with decision trees from `sklearn.tree`"
   ]
  },
  {
   "cell_type": "markdown",
   "metadata": {},
   "source": [
    "Decision Trees are a non-parametric supervised learning method used for classification and regression. The goal of decision tree is to learn simple decision rules from training data and use those rules to predict target value for test data."
   ]
  },
  {
   "cell_type": "markdown",
   "metadata": {},
   "source": [
    "### Mathematical formulation"
   ]
  },
  {
   "cell_type": "markdown",
   "metadata": {},
   "source": [
    "Given training data  $X$ , of shape $[N$ x $D]$ and a label vector $y$ of shape $[N$ x $K]$, (where $N$ is number of samples, $D$ is number of features, $K$ is number of labels) a decision tree recursively partitions the space such that the samples with the same labels are grouped together.\n",
    "\n",
    "\n",
    "\n",
    "Let the data at $m$ node represented by $X$. For each candidate split $\\theta = (j, t_m)$ consisting of a feature $j$ and threshold $t_m$, partition the data into $X\\_l$ and $X\\_r$ subsets\n",
    "\n",
    "$$ X\\_l(\\theta) = {(X, y) | X\\_j <= t_m } $$\n",
    "\n",
    "\n",
    "$$X\\_r(\\theta) = X \\setminus X\\_l(\\theta)$$\n",
    "\n",
    "\n",
    "The impurity at $m$ node is computed using an impurity function $F(X)$, the choice of which depends on the task being solved (classification or regression)\n",
    "\n",
    "Select the parameters $\\theta = (j, t_m)$ for an optimal partition at a given $m$ node that minimises the impurity at left and right nodes. This will be acheived by maximizing below function."
   ]
  },
  {
   "cell_type": "markdown",
   "metadata": {},
   "source": [
    "$$ Q(X, j, t_m) = F(X) - \\dfrac{|X_l|}{|X|} F(X_l) - \\dfrac{|X_r|}{|X|} F(X_r) $$"
   ]
  },
  {
   "cell_type": "markdown",
   "metadata": {},
   "source": [
    "Recurse for subsets $X\\_l$ and $X\\_r$ until...\n",
    "- `max_depth` the maximum allowable depth of tree is reached, \n",
    "- number of samples in a node are less than `min_samples_split` or equal to 1"
   ]
  },
  {
   "cell_type": "markdown",
   "metadata": {},
   "source": [
    "#### Classification criteria"
   ]
  },
  {
   "cell_type": "markdown",
   "metadata": {},
   "source": [
    "If a target is a classification outcome taking on values $0,1,…,K-1$, for node $m$, representing a region $R_m$ with $N_m$ observations, let $p_i$ be the fraction of the samples of the $i$-th class in the dataset $X_m$.\n",
    "$$p_i = \\dfrac{1}{N_m} \\sum_{x_i \\in R_m} I(y_i = k)$$\n",
    "\n",
    "Common measure of impurity are\n",
    "\n",
    "- Gini $$F(X_m) = 1 -\\sum_{i = 1}^K p_i^2$$\n",
    "\n",
    "- Entropy $$F(X_m) = -\\sum_{i = 1}^K p_i \\log_2(p_i)$$\n"
   ]
  },
  {
   "cell_type": "markdown",
   "metadata": {},
   "source": [
    "#### Regression criteria"
   ]
  },
  {
   "cell_type": "markdown",
   "metadata": {},
   "source": [
    "If the target is a continuous value, then for node $m$, representing a region $R_m$ with $N_m$ observations, common criteria to minimise as for determining locations for future splits are Mean Squared Error, which minimizes the L2 error using mean values at terminal nodes, and Mean Absolute Error, which minimizes the L1 error using median values at terminal nodes.\n",
    " "
   ]
  },
  {
   "cell_type": "markdown",
   "metadata": {},
   "source": [
    "$$ \\hat{y} = \\dfrac{1}{N_m}\\sum_{x_i \\in X}y_i$$"
   ]
  },
  {
   "cell_type": "markdown",
   "metadata": {},
   "source": [
    "- Mean Squared Error (variance)\n",
    "\n",
    "$$F(X_m) = \\dfrac{1}{N_m} \\sum_{x_j \\in N_m}(y_j - \\hat{y})^2$$\n",
    "\n",
    "- Mean Absolute Error\n",
    "\n",
    "$$F(X_m) = \\dfrac{1}{N_m} \\sum_{x_j \\in N_m}|(y_j - \\hat{y})|$$\n",
    "\n",
    "- mad_median - Mean deviation from the median \n",
    "$$F(X_m) = \\dfrac{1}{N_m} \\sum_{x_j \\in N_m} |y_j - \\mathrm{med}(y)| $$"
   ]
  },
  {
   "cell_type": "markdown",
   "metadata": {
    "collapsed": true
   },
   "source": [
    "### Implementation\n",
    "\n",
    "**Specification:**\n",
    "\n",
    "1. Inherit our `DecisionTree` class from `sklearn.BaseEstimator`\n",
    "- class constructor parameters: \n",
    "\n",
    "    `max_depth` - maximum allowable depth of the tree (`numpy.inf` by default)\n",
    "    \n",
    "    `min_samples_split` - the minimum number of samples in a node for splitting to be done (2 by default)\n",
    "    \n",
    "    `criterion` - criterion to use for data split, `gini` by default)\n",
    "   \n",
    "- the class has several methods: `fit`, `predict` and `predict_proba`;\n",
    "- the`fit` method takes the matrix of instances `X` and a target vector `y` (`numpy.ndarray` objects) and returns an instance of the class `DecisionTree` representing the decision tree trained on the dataset `(X, y)` according to parameters set in the constructor; \n",
    "- the `predict_proba` method takes the matrix of instances `X` and returns the matrix `P` of a size `X.shape[0] x K`, where `K` is the number of classes and $p_{ij}$ is the probability of an instance in $i$-th row of `X` to belong to class $j \\in \\{1, \\dots, K\\}$.\n",
    "- the `predict` method takes the matrix of instances `X` and returns a prediction vector; in case of classification, prediction for an instance $x_i$ falling into leaf $L$ will be the class, mostly represented among instances in $L$. In case of regression, it'll be the mean value of targets for all instances in leaf $L$."
   ]
  },
  {
   "cell_type": "code",
   "execution_count": 220,
   "metadata": {},
   "outputs": [],
   "source": [
    "import numpy as np\n",
    "from matplotlib import pyplot as plt\n",
    "from sklearn.base import BaseEstimator\n",
    "from sklearn.datasets import make_classification, make_regression, load_digits, load_boston\n",
    "from sklearn.model_selection import train_test_split, GridSearchCV, KFold\n",
    "from sklearn.metrics import accuracy_score, mean_squared_error"
   ]
  },
  {
   "cell_type": "markdown",
   "metadata": {},
   "source": [
    "Let's fix `random_state` (a.k.a. random seed) beforehand."
   ]
  },
  {
   "cell_type": "code",
   "execution_count": 221,
   "metadata": {},
   "outputs": [],
   "source": [
    "RANDOM_STATE = 17"
   ]
  },
  {
   "cell_type": "code",
   "execution_count": 222,
   "metadata": {},
   "outputs": [],
   "source": [
    "# Classification criterion functions\n",
    "def entropy(y):    \n",
    "    P = [len(y[y==k]) / len(y) for k in np.unique(y)]\n",
    "    return -1 * np.dot(P, np.log2(P))\n",
    "\n",
    "def gini(y):\n",
    "    P = [len(y[y==k]) / len(y) for k in np.unique(y)]\n",
    "    return 1 - np.dot(P, P)\n",
    "\n",
    "# Regression criterion functions\n",
    "def variance(y):\n",
    "    return np.var(y)\n",
    "\n",
    "def mad_median(y):\n",
    "    return np.mean(np.abs(y-np.median(y)))\n",
    "\n",
    "# Dictionary for easy mapping with input string\n",
    "criterion_dict = {'entropy': entropy,\n",
    "                   'gini': gini,\n",
    "                   'mse': variance,\n",
    "                   'mad_median' : mad_median}"
   ]
  },
  {
   "cell_type": "code",
   "execution_count": 223,
   "metadata": {},
   "outputs": [],
   "source": [
    "# Target prediction functions\n",
    "\n",
    "# the most popular class in leaf\n",
    "def classification_leaf(y):\n",
    "    return np.bincount(y).argmax()\n",
    "\n",
    "# the mean of all values in a leaf\n",
    "def regression_leaf(y):\n",
    "    return np.mean(y)"
   ]
  },
  {
   "cell_type": "markdown",
   "metadata": {},
   "source": [
    "The `Node` class represents a node in the decision tree."
   ]
  },
  {
   "cell_type": "code",
   "execution_count": 229,
   "metadata": {},
   "outputs": [],
   "source": [
    "class Node():\n",
    "    \n",
    "    def __init__(self, feature_idx=0, threshold=0, labels=None, left=None, right=None):\n",
    "        self.feature_idx = feature_idx\n",
    "        self.threshold = threshold\n",
    "        self.labels = labels\n",
    "        self.left = left\n",
    "        self.right = right"
   ]
  },
  {
   "cell_type": "code",
   "execution_count": 230,
   "metadata": {},
   "outputs": [],
   "source": [
    "class DecisionTree(BaseEstimator):\n",
    "    \n",
    "    def __init__(self, max_depth=np.inf, min_samples_split=2, \n",
    "                 criterion='gini', debug=False):\n",
    "        \n",
    "        params = {'max_depth': max_depth,\n",
    "                  'min_samples_split': min_samples_split,\n",
    "                  'debug' : debug,\n",
    "                  'criterion' : criterion}\n",
    "                \n",
    "        super(DecisionTree, self).set_params(**params)\n",
    "        \n",
    "        self._criterion_fun = criterion_dict[self.criterion]\n",
    "        \n",
    "        if self.criterion in ['mse', 'mad_median']:\n",
    "            self._leaf_value = regression_leaf\n",
    "        else:\n",
    "            self._leaf_value = classification_leaf\n",
    "            \n",
    "        if debug:\n",
    "            print(\"DecisionTree\")\n",
    "            print(f\"max_depth: {self.max_depth}, min_samples_split: {self.min_samples_split}, \\\n",
    "                  criterion: {self.criterion}, debug: {self.debug}\")\n",
    "        \n",
    "    \n",
    "    # A functional returns the gain achieved if we split the data at given feature and threshold value\n",
    "    #\n",
    "    def _functional(self, X, y, feature_idx, threshold):\n",
    "        if threshold is np.nan:\n",
    "            return 0\n",
    "        \n",
    "        mask = X[:,feature_idx] < threshold\n",
    "        X_l = X[ mask ]\n",
    "        y_l = y[ mask ]\n",
    "\n",
    "        X_r = X[ ~mask ]\n",
    "        y_r = y[ ~mask ]\n",
    "        \n",
    "        # if all the data goes to one of the child\n",
    "        if len(X_l) == 0 or len(X_r) == 0:\n",
    "            return 0\n",
    "\n",
    "        return self._criterion_fun(y) - \\\n",
    "                (X_l.shape[0]/X.shape[0])* self._criterion_fun(y_l) - \\\n",
    "                (X_r.shape[0]/X.shape[0])* self._criterion_fun(y_r)\n",
    "\n",
    "    \n",
    "    # recursive function to split the data and form nodes\n",
    "    # \n",
    "    def _build_tree(self, X, y, depth = 1):\n",
    "        \n",
    "        # We already reached to the max_depth, so time to leave recursion \n",
    "        # by creating a leaf Node\n",
    "        if depth > self.max_depth:\n",
    "            return Node(labels=y)\n",
    "        \n",
    "        n_samples, n_features = X.shape\n",
    "        \n",
    "        # We do not have sufficient samples to split\n",
    "        if n_samples < self.min_samples_split:\n",
    "            return Node(labels=y)\n",
    "        \n",
    "        # If all objects in a current vertex have the same values in answers\n",
    "        # then the value of the functional will be 0 for all partitions.\n",
    "        # So in this case the vertex is a leaf. In order not to make unnecessary calculations, \n",
    "        # perform this check before the main cycle.\n",
    "        if len(np.unique(y)) == 1:\n",
    "            return Node(labels=y)\n",
    "        \n",
    "        # Here we are trying to split the data such that we will have maximun\n",
    "        # gain out of split.\n",
    "        # We will simulate the split for each unique value of each feature and\n",
    "        # calculate the functional gain. On evey account of finding the maximum gain \n",
    "        # from the previous we will keep storing the feature index and threshold value\n",
    "        # which gave this gain.\n",
    "        # At the end of this search we will have the best feature index and threshold\n",
    "        # value we should use to split the data into left and right nodes.\n",
    "        max_gain = 0\n",
    "        best_feat_idx = 0\n",
    "        best_threshold = 0\n",
    "        \n",
    "        for feature_idx in range(n_features):\n",
    "            all_thresholds = np.unique(X[:,feature_idx])\n",
    "            \n",
    "            all_gain = [self._functional(X, y, feature_idx, threshold) for threshold in all_thresholds]\n",
    "            \n",
    "            threshold_idx = np.nanargmax(all_gain)\n",
    "            \n",
    "            if all_gain[threshold_idx] > max_gain:\n",
    "                max_gain = all_gain[threshold_idx]\n",
    "                best_feat_idx = feature_idx\n",
    "                best_threshold = all_thresholds[threshold_idx]\n",
    "\n",
    "        # Split data at this best feature and threshold\n",
    "        mask = X[:,best_feat_idx] < best_threshold\n",
    "        \n",
    "        return Node(best_feat_idx, best_threshold, labels=None, # We need to cache labels only at leaf node\n",
    "                             left = self._build_tree(X[mask], y[mask], depth+1), # continue to build on left side\n",
    "                             right = self._build_tree(X[~mask], y[~mask], depth+1)) # continue to build on right side\n",
    "\n",
    "    \n",
    "    def fit(self, X, y):\n",
    "        '''the method takes the matrix of instances X and a target vector y (numpy.ndarray objects) \n",
    "        and returns an instance of the class DecisionTree representing the decision tree trained on the \n",
    "        dataset (X, y) according to parameters set in the constructor'''\n",
    "        \n",
    "        # remember the number classes for classification task\n",
    "        if self.criterion in ['gini', 'entropy']:\n",
    "            self._n_classes = len(np.unique(y))\n",
    "            \n",
    "        self.root = self._build_tree(X, y)\n",
    "        self.tree_ = self.root\n",
    "        \n",
    "        return self\n",
    "        \n",
    "\n",
    "    # predict only for one object \n",
    "    def _predict_object(self, x):\n",
    "        # Traverse from root to leaf node\n",
    "        node = self.root\n",
    "        \n",
    "        while node.labels is None:\n",
    "            node = node.left if x[node.feature_idx] < node.threshold else node.right\n",
    "        \n",
    "        # calculate the prediction\n",
    "        return self._leaf_value(node.labels)\n",
    "            \n",
    "        \n",
    "    def predict(self, X):\n",
    "        '''the method takes the matrix of instances X and returns a prediction vector;\n",
    "        in case of classification, prediction for an instance  xi  falling into leaf L will be the class,\n",
    "        mostly represented among instances in  L . \n",
    "        In case of regression, it will be the mean value of targets for all instances in leaf  L'''\n",
    "        return np.array([self._predict_object(x) for x in X])\n",
    "        \n",
    "    \n",
    "    def _predict_prob_object(self, x):\n",
    "        node = self.root\n",
    "        \n",
    "        while node.labels is None:\n",
    "            node = node.left if x[node.feature_idx] < node.threshold else node.right\n",
    "            \n",
    "        # calculate the probability of each class\n",
    "        # i.e number of labels of class k / total number of labels\n",
    "        return [len( node.labels[node.labels == k] ) / len(node.labels)\n",
    "            for k in range(self._n_classes)]\n",
    "        \n",
    "    \n",
    "    def predict_proba(self, X):\n",
    "        '''the method takes the matrix of instances X and returns the matrix P of a size [X.shape[0] x K],\n",
    "        where K is the number of classes and  Pij  is the probability of an instance in  i -th row of X \n",
    "        to belong to class  j∈{1,…,K}'''\n",
    "        return np.array([self._predict_prob_object(x) for x in X])"
   ]
  },
  {
   "cell_type": "markdown",
   "metadata": {},
   "source": [
    "### Testing the implemented algorithm"
   ]
  },
  {
   "cell_type": "markdown",
   "metadata": {},
   "source": [
    "### Classification"
   ]
  },
  {
   "cell_type": "code",
   "execution_count": 247,
   "metadata": {},
   "outputs": [],
   "source": [
    "# Prepare a synthetic data for classification\n",
    "X, y = make_classification(n_features=2, n_redundant=0, n_samples=400,\n",
    "                          random_state=RANDOM_STATE)\n",
    "\n",
    "X_train, X_test, y_train, y_test = train_test_split(X, y, test_size=0.3,\n",
    "                                                   random_state=RANDOM_STATE)"
   ]
  },
  {
   "cell_type": "code",
   "execution_count": 232,
   "metadata": {},
   "outputs": [],
   "source": [
    "# print results of trained classification model\n",
    "def print_results_clf(model):\n",
    "    y_pred = model.predict(X_test)\n",
    "    prob_pred = model.predict_proba(X_test)\n",
    "    accuracy = accuracy_score(y_test, y_pred)\n",
    "\n",
    "    print(\"Accuracy:\", accuracy)\n",
    "\n",
    "    if (sum(np.argmax(prob_pred,axis=1) - y_pred) == 0):\n",
    "        print('predict_proba works!')\n",
    "\n",
    "    plt.suptitle(\"Accuracy = {0:.2f}\".format(accuracy))\n",
    "    plt.subplot(121)\n",
    "    plt.scatter(X_test[:, 0], X_test[:, 1], c=y_pred, cmap=plt.cm.coolwarm)\n",
    "    plt.title('Predicted class labels')\n",
    "    plt.axis('equal')\n",
    "    plt.subplot(122)\n",
    "    plt.scatter(X_test[:, 0], X_test[:, 1], c=y_test, cmap=plt.cm.coolwarm)\n",
    "    plt.title('True class labels')\n",
    "    plt.axis('equal');"
   ]
  },
  {
   "cell_type": "markdown",
   "metadata": {},
   "source": [
    "Test our implementation results"
   ]
  },
  {
   "cell_type": "code",
   "execution_count": 233,
   "metadata": {
    "scrolled": true
   },
   "outputs": [
    {
     "name": "stdout",
     "output_type": "stream",
     "text": [
      "Accuracy: 0.8666666666666667\n",
      "predict_proba works!\n"
     ]
    },
    {
     "data": {
      "image/png": "[encoded data removed]",
      "text/plain": [
       "<Figure size 432x288 with 2 Axes>"
      ]
     },
     "metadata": {},
     "output_type": "display_data"
    }
   ],
   "source": [
    "clf1 = DecisionTree(max_depth=4, min_samples_split=2, criterion='entropy')\n",
    "clf1.fit(X_train, y_train)\n",
    "\n",
    "print_results_clf(clf1)"
   ]
  },
  {
   "cell_type": "markdown",
   "metadata": {},
   "source": [
    "Now compare our results with `sklearn`"
   ]
  },
  {
   "cell_type": "code",
   "execution_count": 234,
   "metadata": {},
   "outputs": [],
   "source": [
    "from sklearn.tree import DecisionTreeClassifier"
   ]
  },
  {
   "cell_type": "code",
   "execution_count": 235,
   "metadata": {},
   "outputs": [
    {
     "name": "stdout",
     "output_type": "stream",
     "text": [
      "Accuracy: 0.875\n",
      "predict_proba works!\n"
     ]
    },
    {
     "data": {
      "image/png": "[encoded data removed]",
      "text/plain": [
       "<Figure size 432x288 with 2 Axes>"
      ]
     },
     "metadata": {},
     "output_type": "display_data"
    }
   ],
   "source": [
    "clf2 = DecisionTreeClassifier(max_depth=4, min_samples_split=2, criterion='entropy')\n",
    "clf2.fit(X_train, y_train)\n",
    "\n",
    "print_results_clf(clf2)"
   ]
  },
  {
   "cell_type": "markdown",
   "metadata": {},
   "source": [
    "There is a scope of improvement in our classification model. Still our results are pretty good."
   ]
  },
  {
   "cell_type": "markdown",
   "metadata": {},
   "source": [
    "### Regression"
   ]
  },
  {
   "cell_type": "code",
   "execution_count": 236,
   "metadata": {},
   "outputs": [],
   "source": [
    "# Prepare a synthetic data for regression\n",
    "X, y = make_regression(n_features=1, n_samples=200, bias=0, noise=5,\n",
    "                      random_state=RANDOM_STATE)\n",
    "\n",
    "X_train, X_test, y_train, y_test = train_test_split(X, y, test_size=0.3)"
   ]
  },
  {
   "cell_type": "code",
   "execution_count": 237,
   "metadata": {},
   "outputs": [],
   "source": [
    "# print results of trained regression model\n",
    "def print_results_reg(model):\n",
    "    y_pred = model.predict(X_test)\n",
    "\n",
    "    mse = mean_squared_error(y_test, y_pred)\n",
    "    print(\"Mean Squared Error:\", mse)\n",
    "\n",
    "    plt.scatter(X_test[:, 0], y_test, color='black')\n",
    "    plt.scatter(X_test[:, 0], y_pred, color='green')\n",
    "    plt.title(\"MSE = {0:.2f}\".format(mse));"
   ]
  },
  {
   "cell_type": "markdown",
   "metadata": {},
   "source": [
    "Test our implementation results"
   ]
  },
  {
   "cell_type": "code",
   "execution_count": 238,
   "metadata": {},
   "outputs": [
    {
     "name": "stdout",
     "output_type": "stream",
     "text": [
      "Mean Squared Error: 219.56455483815384\n"
     ]
    },
    {
     "data": {
      "image/png": "[encoded data removed]",
      "text/plain": [
       "<Figure size 432x288 with 1 Axes>"
      ]
     },
     "metadata": {},
     "output_type": "display_data"
    }
   ],
   "source": [
    "reg1 = DecisionTree(max_depth=6, min_samples_split=2, criterion='mse')\n",
    "reg1.fit(X_train, y_train)\n",
    "print_results_reg(reg1)"
   ]
  },
  {
   "cell_type": "markdown",
   "metadata": {},
   "source": [
    "Now compare our results with `sklearn`"
   ]
  },
  {
   "cell_type": "code",
   "execution_count": 239,
   "metadata": {},
   "outputs": [],
   "source": [
    "from sklearn.tree import DecisionTreeRegressor"
   ]
  },
  {
   "cell_type": "code",
   "execution_count": 240,
   "metadata": {},
   "outputs": [
    {
     "name": "stdout",
     "output_type": "stream",
     "text": [
      "Mean Squared Error: 81.96624081494176\n"
     ]
    },
    {
     "data": {
      "image/png": "[encoded data removed]",
      "text/plain": [
       "<Figure size 432x288 with 1 Axes>"
      ]
     },
     "metadata": {},
     "output_type": "display_data"
    }
   ],
   "source": [
    "reg2 = DecisionTreeRegressor(max_depth=6, min_samples_split=2, criterion='mse')\n",
    "reg2.fit(X_train, y_train)\n",
    "print_results_reg(reg2)"
   ]
  },
  {
   "cell_type": "markdown",
   "metadata": {},
   "source": [
    "Mean squared error, the lower the better. We also have improvement scope in our regressor, still it is good comparatively."
   ]
  }
 ],
 "metadata": {
  "kernelspec": {
   "display_name": "Python 3",
   "language": "python",
   "name": "python3"
  },
  "language_info": {
   "codemirror_mode": {
    "name": "ipython",
    "version": 3
   },
   "file_extension": ".py",
   "mimetype": "text/x-python",
   "name": "python",
   "nbconvert_exporter": "python",
   "pygments_lexer": "ipython3",
   "version": "3.6.5"
  },
  "name": "lesson4_part2_Decision_trees.ipynb"
 },
 "nbformat": 4,
 "nbformat_minor": 1
}
