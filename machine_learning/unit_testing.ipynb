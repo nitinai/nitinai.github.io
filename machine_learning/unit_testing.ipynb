{
 "cells": [
  {
   "cell_type": "markdown",
   "metadata": {},
   "source": [
    "---\n",
    "title: \"Unit testing\"\n",
    "date: 2019-01-25T19:14:46+05:30\n",
    "draft: False\n",
    "author: \"Nitin Patil\"\n",
    "\n",
    "---"
   ]
  },
  {
   "cell_type": "markdown",
   "metadata": {},
   "source": [
    "We should write the test cases to test our software. These tests ensures no regression in existing functionality while adding new changes to the code."
   ]
  },
  {
   "cell_type": "markdown",
   "metadata": {},
   "source": [
    "## pytest\n",
    "\n",
    "`pytest` is a framework that makes building simple and scalable tests easy. Tests are expressive and readable—no boilerplate code required. pytest test cases are a series of functions in a Python file starting with the name test_."
   ]
  },
  {
   "cell_type": "markdown",
   "metadata": {},
   "source": [
    "### Install\n",
    "\n",
    "Run the following command in your command line:"
   ]
  },
  {
   "cell_type": "code",
   "execution_count": null,
   "metadata": {},
   "outputs": [],
   "source": [
    "pip install -U pytest"
   ]
  },
  {
   "cell_type": "markdown",
   "metadata": {},
   "source": [
    "### Create test"
   ]
  },
  {
   "cell_type": "markdown",
   "metadata": {},
   "source": [
    "In order to understand the complete picture, before creating a test, let's create a sample functionality to test.\n",
    "\n",
    "Here we will implement a functionality which will multiply given two numbers. Create a new project folder and, inside that, create a new folder called my_multi. Inside my_multi, create an empty file called `__init__.py`. Creating the `__init__.py` file means that the my_multi folder can be imported as a module from the parent directory."
   ]
  },
  {
   "cell_type": "code",
   "execution_count": null,
   "metadata": {},
   "outputs": [],
   "source": [
    "project/\n",
    "│\n",
    "└── my_multi/\n",
    "    └── __init__.py\n",
    "        multi.py"
   ]
  },
  {
   "cell_type": "code",
   "execution_count": null,
   "metadata": {},
   "outputs": [],
   "source": [
    "# content of multi.py\n",
    "def multiply(a, b):\n",
    "    return a * b"
   ]
  },
  {
   "cell_type": "markdown",
   "metadata": {},
   "source": [
    "You can add your test directly under project folder or under sub-folder. I added it under `tests`. The test file name should either start or end with `test`. So that test runner will assume that the python file contains tests to be executed. Similarly the test case should also start with `test_`"
   ]
  },
  {
   "cell_type": "code",
   "execution_count": null,
   "metadata": {},
   "outputs": [],
   "source": [
    "project/\n",
    "│\n",
    "├── my_multi/\n",
    "│   └── __init__.py\n",
    "|       multi.py\n",
    "|\n",
    "└── tests/\n",
    "    └── __init__.py\n",
    "        test_multi.py"
   ]
  },
  {
   "cell_type": "code",
   "execution_count": null,
   "metadata": {},
   "outputs": [],
   "source": [
    "# content of test_multi.py\n",
    "import pytest\n",
    "\n",
    "from my_multi import multiply\n",
    "\n",
    "def test_multiplication():\n",
    "    assert (multiply(2, 3) == 6)"
   ]
  },
  {
   "cell_type": "markdown",
   "metadata": {},
   "source": [
    "### Run test"
   ]
  },
  {
   "cell_type": "markdown",
   "metadata": {},
   "source": [
    "You can invoke testing through the Python interpreter from the command line"
   ]
  },
  {
   "cell_type": "code",
   "execution_count": null,
   "metadata": {},
   "outputs": [],
   "source": [
    "python -m pytest tests/\n",
    "\n",
    "    Or simply\n",
    "\n",
    "pytest tests/"
   ]
  },
  {
   "cell_type": "markdown",
   "metadata": {},
   "source": [
    "pytest dumps pass or fail results"
   ]
  },
  {
   "cell_type": "code",
   "execution_count": null,
   "metadata": {},
   "outputs": [],
   "source": [
    "============================= test session starts =============================\n",
    "platform win32 -- Python 3.6.5, pytest-3.5.1, py-1.5.3, pluggy-0.6.0\n",
    "rootdir: project, inifile:\n",
    "plugins: remotedata-0.2.1, openfiles-0.3.0, doctestplus-0.1.3, arraydiff-0.2\n",
    "collected 1 items\n",
    "\n",
    "tests\\test_multi.py ...                                           [100%]\n",
    "\n",
    "========================== 1 passed in 0.02 seconds ==========================="
   ]
  },
  {
   "cell_type": "markdown",
   "metadata": {},
   "source": [
    "I purposefully changed the `multiply` function to divide `a` by `b`. So now our test failed showing the call stack."
   ]
  },
  {
   "cell_type": "code",
   "execution_count": null,
   "metadata": {},
   "outputs": [],
   "source": [
    "============================= test session starts =============================\n",
    "platform win32 -- Python 3.6.5, pytest-3.5.1, py-1.5.3, pluggy-0.6.0\n",
    "rootdir: project, inifile:\n",
    "plugins: remotedata-0.2.1, openfiles-0.3.0, doctestplus-0.1.3, arraydiff-0.2\n",
    "collected 1 items\n",
    "\n",
    "tests\\test_multi.py F..                                           [100%]\n",
    "================================== FAILURES ===================================\n",
    "_____________________________ test_multiplication _____________________________\n",
    "\n",
    "    def test_multiplication():\n",
    ">       assert (multiply(2, 3) == 6)\n",
    "E       assert 0 == 6\n",
    "E        +  where 0 = multiply(2, 3)\n",
    "\n",
    "tests\\test_multi.py:14: AssertionError\n",
    "===================== 1 failed in 0.02 seconds ======================"
   ]
  },
  {
   "cell_type": "markdown",
   "metadata": {},
   "source": [
    "### Other options to run tests"
   ]
  },
  {
   "cell_type": "markdown",
   "metadata": {},
   "source": [
    "You can `-v` for verbose result, like status of each test ran."
   ]
  },
  {
   "cell_type": "code",
   "execution_count": null,
   "metadata": {},
   "outputs": [],
   "source": [
    "pytest -v /path/to/test_file.py"
   ]
  },
  {
   "cell_type": "markdown",
   "metadata": {},
   "source": [
    "If you have mulptiple tests in a file and only wants to run specific test out them, you can do as below."
   ]
  },
  {
   "cell_type": "code",
   "execution_count": null,
   "metadata": {},
   "outputs": [],
   "source": [
    "pytest -v /path/to/test_file.py::test_name"
   ]
  },
  {
   "cell_type": "markdown",
   "metadata": {},
   "source": [
    "## References\n",
    "\n",
    "- https://realpython.com/python-testing/\n",
    "- https://docs.pytest.org/en/latest/\n",
    "- https://stackoverflow.com/a/46688921/9097885"
   ]
  },
  {
   "cell_type": "code",
   "execution_count": null,
   "metadata": {},
   "outputs": [],
   "source": []
  }
 ],
 "metadata": {
  "kernelspec": {
   "display_name": "Python 3",
   "language": "python",
   "name": "python3"
  },
  "language_info": {
   "codemirror_mode": {
    "name": "ipython",
    "version": 3
   },
   "file_extension": ".py",
   "mimetype": "text/x-python",
   "name": "python",
   "nbconvert_exporter": "python",
   "pygments_lexer": "ipython3",
   "version": "3.6.5"
  }
 },
 "nbformat": 4,
 "nbformat_minor": 2
}
