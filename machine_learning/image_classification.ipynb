{
 "cells": [
  {
   "cell_type": "markdown",
   "metadata": {},
   "source": [
    "---\n",
    "title: \"Image Classification\"\n",
    "date: 2019-03-31T18:05:20+05:30\n",
    "draft: false\n",
    "author: \"Nitin Patil\"\n",
    "\n",
    "---"
   ]
  },
  {
   "attachments": {},
   "cell_type": "markdown",
   "metadata": {},
   "source": [
    "Image Classification is a task of assigning an input image one label from a fixed set of categories. Many Computer Vision tasks (such as object detection, segmentation) can be reduced to image classification.\n",
    "\n",
    "For computer images are 3-dimensional arrays of integers from 0 (black) to 255 (white) representing brightness, of size [Width x Height x 3]. The 3 represents the three color channels Red, Green, Blue.\n",
    "\n",
    "![cat](cat.jpg)\n",
    "\n",
    "    The task in Image Classification is to predict a single label (or a distribution over labels as shown here to indicate our confidence) for a given image."
   ]
  },
  {
   "cell_type": "markdown",
   "metadata": {},
   "source": [
    "## Challeges for vision algorithm"
   ]
  },
  {
   "cell_type": "markdown",
   "metadata": {},
   "source": [
    "![challenges](challenges.jpg)\n",
    "\n",
    "- **Viewpoint variation** - Image can be oriented in many ways with respect to the camera.\n",
    "\n",
    "- **Scale variation** - Visual classes often exhibit variation in their size.\n",
    "\n",
    "- **Deformation** - Many objects of interest are not rigid bodies and can be deformed in extreme ways. e.g. cat\n",
    "\n",
    "- **Occlusion** - Sometimes only a small portion of an object (as little as few pixels) could be visible.\n",
    "\n",
    "- **Illumination conditions** - As pixel represents the brightness value the effects of illumination are drastic on the pixel level.\n",
    "\n",
    "- **Background clutter** - The objects of interest may blend into their environment, making them hard to identify.\n",
    "\n",
    "- **Intra-class variation** - The classes of interest can often be relatively broad, such as chair. There are many different types of these objects, each with their own appearance.\n",
    "\n",
    "A good image classification model must be invariant to the cross product of all these variations, while simultaneously retaining sensitivity to the inter-class variations."
   ]
  },
  {
   "cell_type": "markdown",
   "metadata": {},
   "source": [
    "## Image classification pipeline"
   ]
  },
  {
   "cell_type": "markdown",
   "metadata": {},
   "source": [
    "![](classes.jpg)"
   ]
  },
  {
   "cell_type": "markdown",
   "metadata": {},
   "source": [
    "Our goal is to build an image classifier which would correctly label an image identifying the object it contains."
   ]
  },
  {
   "cell_type": "markdown",
   "metadata": {},
   "source": [
    "- **Data collection** - first accumulate a dataset of $N$ images, each labeled with one of $K$ different classes. This would be our training set.\n",
    "\n",
    "- **Learning** - Given the training set to algorithm, it will learn how every one of the classes looks like.\n",
    "\n",
    "- **Evaluation** - Now it's a exam time of a classifier. We give a new set of unseen images to a model and ask to predict their labels. Compare the predicted labels with the true labels. Expectation is that a lot of predictions should match up with the true answers (which we call the ground truth)."
   ]
  },
  {
   "cell_type": "markdown",
   "metadata": {},
   "source": [
    "## Data set"
   ]
  },
  {
   "cell_type": "markdown",
   "metadata": {},
   "source": [
    "One popular toy image classification dataset is the [CIFAR-10 dataset](http://www.cs.toronto.edu/~kriz/cifar.html).\n",
    "\n",
    "$N$ = 60,000 images\n",
    "\n",
    "$image\\, size = [32 x 32 x 3]$\n",
    "\n",
    "$K$ = 10 classes like airplane, automobile, bird, etc"
   ]
  },
  {
   "cell_type": "markdown",
   "metadata": {},
   "source": [
    "There are differenet machine learning algorithms which we can train to classify images. Each algorithm gives different performence. We will start to explore them all starting from [k-Nearest Neighbor](/machine_learning/k-nearest_neighbor_classifier/), [Linear classification](/machine_learning/linear_classification/) to Neural network."
   ]
  },
  {
   "cell_type": "markdown",
   "metadata": {},
   "source": [
    "## References\n",
    "- http://cs231n.github.io/classification/"
   ]
  }
 ],
 "metadata": {
  "kernelspec": {
   "display_name": "Python 3",
   "language": "python",
   "name": "python3"
  },
  "language_info": {
   "codemirror_mode": {
    "name": "ipython",
    "version": 3
   },
   "file_extension": ".py",
   "mimetype": "text/x-python",
   "name": "python",
   "nbconvert_exporter": "python",
   "pygments_lexer": "ipython3",
   "version": "3.6.5"
  }
 },
 "nbformat": 4,
 "nbformat_minor": 2
}
