{
 "cells": [
  {
   "cell_type": "markdown",
   "metadata": {},
   "source": [
    "---\n",
    "title: \"Javascript cheatsheet\"\n",
    "date: 2019-04-16T18:05:20+05:30\n",
    "draft: false\n",
    "author: \"Nitin Patil\"\n",
    "\n",
    "---"
   ]
  },
  {
   "cell_type": "markdown",
   "metadata": {},
   "source": [
    "JavaScript is the programming language of HTML and the Web.\n",
    "\n",
    "Why Study JavaScript?\n",
    "JavaScript is one of the 3 languages all web developers must learn:\n",
    "\n",
    "   1. HTML to define the content of web pages\n",
    "\n",
    "   2. CSS to specify the layout of web pages\n",
    "\n",
    "   3. JavaScript to program the behavior of web pages\n",
    "\n",
    "Web pages are not the only place where JavaScript is used. Many desktop and server programs use JavaScript. Node.js is the best known. Some databases, like MongoDB and CouchDB, also use JavaScript as their programming language."
   ]
  },
  {
   "cell_type": "markdown",
   "metadata": {},
   "source": [
    "### On button click change value of html element"
   ]
  },
  {
   "cell_type": "code",
   "execution_count": null,
   "metadata": {},
   "outputs": [],
   "source": [
    "<p id=\"demo\"></p>\n",
    "\n",
    "<button type=\"button\" onclick=\"document.getElementById('demo').innerHTML = Date()\"> Click me to display Date and Time. </button>"
   ]
  },
  {
   "cell_type": "markdown",
   "metadata": {},
   "source": [
    "`getElementById()` find an HTML element with id (=\"demo\"), then we can change \n",
    "- element content by `innerHTML`\n",
    "- changes the value of the attribute e.g. `src` (source) attribute of an `<img>` tag"
   ]
  },
  {
   "cell_type": "code",
   "execution_count": null,
   "metadata": {},
   "outputs": [],
   "source": [
    "<img id=\"myImage\" src=\"pic_bulboff.gif\" style=\"width:100px\">\n",
    "\n",
    "<button onclick=\"document.getElementById('myImage').src='pic_bulbon.gif'\">Turn on the light</button>"
   ]
  },
  {
   "cell_type": "markdown",
   "metadata": {},
   "source": [
    "- Can Change HTML Styles (CSS)"
   ]
  },
  {
   "cell_type": "code",
   "execution_count": null,
   "metadata": {},
   "outputs": [],
   "source": [
    "document.getElementById(\"demo\").style.fontSize = \"35px\";"
   ]
  },
  {
   "cell_type": "markdown",
   "metadata": {},
   "source": [
    "- Can Show/Hide HTML Elements"
   ]
  },
  {
   "cell_type": "code",
   "execution_count": null,
   "metadata": {},
   "outputs": [],
   "source": [
    "<button type=\"button\" onclick=\"document.getElementById('demo').style.display='none'\">Click Me!</button>\n",
    "\n",
    "document.getElementById(\"demo\").style.display = \"none\"; # hide\n",
    "document.getElementById(\"demo\").style.display = \"block\"; #show"
   ]
  },
  {
   "cell_type": "markdown",
   "metadata": {},
   "source": [
    "### Varabile declaration"
   ]
  },
  {
   "cell_type": "code",
   "execution_count": null,
   "metadata": {},
   "outputs": [],
   "source": [
    "var varName = value\n",
    "var i = 10\n",
    "var name = 'myName', age=30\n",
    "\n",
    "var carName = \"Volvo\";\n",
    "var carName; // re-declaring a variable will not lose its value. \n",
    "// The variable carName will still have the value \"Volvo\" after the execution of these statements:"
   ]
  },
  {
   "cell_type": "markdown",
   "metadata": {},
   "source": [
    "### Functions\n",
    "\n",
    "We can define a `function` to call on event like button click."
   ]
  },
  {
   "cell_type": "code",
   "execution_count": null,
   "metadata": {},
   "outputs": [],
   "source": [
    "function myFunction() {\n",
    "  document.getElementById(\"demo\").innerHTML = \"Paragraph changed.\";\n",
    "}"
   ]
  },
  {
   "cell_type": "markdown",
   "metadata": {},
   "source": [
    "### The `<script>` Tag\n",
    "In HTML, JavaScript code must be inserted between <script> and </script> tags.\n",
    "\n",
    "You can place any number of scripts in an HTML document.\n",
    "\n",
    "Scripts can be placed in the `<body>`, or in the `<head>` section of an HTML page, or in both."
   ]
  },
  {
   "cell_type": "code",
   "execution_count": null,
   "metadata": {},
   "outputs": [],
   "source": [
    "# example of inline script\n",
    "<!DOCTYPE html>\n",
    "<html>\n",
    "\n",
    "<head>\n",
    "<script>\n",
    "function myFunction() {\n",
    "  document.getElementById(\"demo\").innerHTML = \"Paragraph changed.\";\n",
    "}\n",
    "</script>\n",
    "</head>\n",
    "\n",
    "<body>\n",
    "\n",
    "<h2>JavaScript in Body</h2>\n",
    "\n",
    "<p id=\"demo\"></p>\n",
    "\n",
    "<script>\n",
    "document.getElementById(\"demo\").innerHTML = \"My First JavaScript\";\n",
    "</script>\n",
    "\n",
    "// Can refer to external javascript file\n",
    "<script src=\"myScript.js\"></script>\n",
    "\n",
    "<script src=\"myScript2.js\"></script>\n",
    "\n",
    "</body>\n",
    "</html> "
   ]
  },
  {
   "cell_type": "markdown",
   "metadata": {},
   "source": [
    "Or we can point to the script file"
   ]
  },
  {
   "cell_type": "code",
   "execution_count": null,
   "metadata": {},
   "outputs": [],
   "source": [
    "<script src='../static/myScript.js'></script>"
   ]
  },
  {
   "cell_type": "markdown",
   "metadata": {},
   "source": [
    "### \"display\" data"
   ]
  },
  {
   "cell_type": "markdown",
   "metadata": {},
   "source": [
    "- Writing into an HTML element, using `innerHTML`"
   ]
  },
  {
   "cell_type": "markdown",
   "metadata": {},
   "source": [
    "- Writing into the HTML output using `document.write()`"
   ]
  },
  {
   "cell_type": "code",
   "execution_count": null,
   "metadata": {},
   "outputs": [],
   "source": [
    "<script>\n",
    "document.write(5 + 6);\n",
    "</script>"
   ]
  },
  {
   "cell_type": "markdown",
   "metadata": {},
   "source": [
    "Using `document.write()` after an HTML document is loaded, will delete all existing HTML"
   ]
  },
  {
   "cell_type": "code",
   "execution_count": null,
   "metadata": {},
   "outputs": [],
   "source": [
    "<button type=\"button\" onclick=\"document.write(5 + 6)\">Try it</button>"
   ]
  },
  {
   "cell_type": "markdown",
   "metadata": {},
   "source": [
    "- Writing into an alert box, using `window.alert()`"
   ]
  },
  {
   "cell_type": "markdown",
   "metadata": {},
   "source": [
    "- Writing into the browser console, using `console.log()`\n",
    "\n",
    "    Useful for debugging"
   ]
  },
  {
   "cell_type": "markdown",
   "metadata": {},
   "source": [
    "### The XMLHttpRequest Object\n",
    "All modern browsers have a built-in XMLHttpRequest object to request data from a server.\n",
    "The XMLHttpRequest object can be used to request data from a web server.\n",
    "\n",
    "The XMLHttpRequest object is a developers dream, because you can:\n",
    "\n",
    "- Update a web page without reloading the page\n",
    "- Request data from a server - after the page has loaded\n",
    "- Receive data from a server  - after the page has loaded\n",
    "- Send data to a server - in the background"
   ]
  },
  {
   "cell_type": "code",
   "execution_count": null,
   "metadata": {},
   "outputs": [],
   "source": [
    "var xhttp = new XMLHttpRequest();\n",
    "xhttp.onreadystatechange = function() {\n",
    "    if (this.readyState == 4 && this.status == 200) {\n",
    "       // Typical action to be performed when the document is ready:\n",
    "       document.getElementById(\"demo\").innerHTML = xhttp.responseText;\n",
    "    }\n",
    "};\n",
    "xhttp.open(\"GET\", \"filename\", true);\n",
    "xhttp.send();"
   ]
  },
  {
   "cell_type": "markdown",
   "metadata": {},
   "source": [
    "### References\n",
    "- https://www.w3schools.com/js/"
   ]
  },
  {
   "cell_type": "code",
   "execution_count": null,
   "metadata": {},
   "outputs": [],
   "source": []
  }
 ],
 "metadata": {
  "kernelspec": {
   "display_name": "Python 3",
   "language": "python",
   "name": "python3"
  },
  "language_info": {
   "codemirror_mode": {
    "name": "ipython",
    "version": 3
   },
   "file_extension": ".py",
   "mimetype": "text/x-python",
   "name": "python",
   "nbconvert_exporter": "python",
   "pygments_lexer": "ipython3",
   "version": "3.6.5"
  }
 },
 "nbformat": 4,
 "nbformat_minor": 2
}
