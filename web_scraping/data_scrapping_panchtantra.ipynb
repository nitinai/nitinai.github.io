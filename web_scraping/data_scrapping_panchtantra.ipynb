{
 "cells": [
  {
   "cell_type": "code",
   "execution_count": 73,
   "metadata": {},
   "outputs": [],
   "source": [
    "import requests\n",
    "import urllib.request\n",
    "import time\n",
    "from bs4 import BeautifulSoup\n",
    "import pandas as pd"
   ]
  },
  {
   "cell_type": "code",
   "execution_count": 74,
   "metadata": {},
   "outputs": [],
   "source": [
    "def read_story(url):\n",
    "    \n",
    "    response = requests.get(url)\n",
    "\n",
    "    soup = BeautifulSoup(response.text, \"html.parser\")\n",
    "\n",
    "    story = soup.find(id='dvAllLft')\n",
    "\n",
    "    # remove the unwanted tags\n",
    "    story.find('select', attrs = {'class':'inputArchive'}).decompose()\n",
    "    picRt = story.find('div', attrs = {'class':'shadowInset picFrameRight'})\n",
    "    if picRt: picRt.decompose()\n",
    "\n",
    "    # remove all ads\n",
    "    ads = story.findAll('div', attrs = {'class':'adSpaceEmbed'})\n",
    "    for ad in ads: ad.decompose()\n",
    "\n",
    "    picLt = story.find('div', attrs = {'class':'shadowInset picFrameLeft'})\n",
    "    if picLt: picLt.decompose()\n",
    "\n",
    "    left_story = story.find('td', attrs = {'align':'left'})\n",
    "    if left_story: left_story.decompose()\n",
    "\n",
    "    right_story = story.find('td', attrs = {'align':'right'})\n",
    "    if right_story: right_story.decompose()\n",
    "\n",
    "    story.find('div', attrs = {'id':'share'}).decompose()\n",
    "\n",
    "    # story title\n",
    "    title = soup.find('h1', attrs = {'class':'textAbnormalXLarge'}).text.upper()\n",
    "\n",
    "    # moral\n",
    "    moral = soup.find('h2', attrs = {'class':'textNormal bolden'}).text.strip()\n",
    "\n",
    "    #print(title)\n",
    "    #print(moral)\n",
    "\n",
    "    # story\n",
    "    content = ''\n",
    "    for s in story.stripped_strings:\n",
    "        #print(s)\n",
    "        content += s + '\\n'\n",
    "        \n",
    "    return title, moral, content, url"
   ]
  },
  {
   "cell_type": "code",
   "execution_count": 75,
   "metadata": {},
   "outputs": [],
   "source": [
    "def gen_data():\n",
    "    url = \"http://www.talesofpanchatantra.com/short-stories-for-kids\"\n",
    "    response = requests.get(url)\n",
    "\n",
    "    soup = BeautifulSoup(response.text, \"html.parser\")\n",
    "\n",
    "    # Get all stories links\n",
    "    all_links = soup.find('div', attrs={'id': 'listStories'})\n",
    "    \n",
    "    #urls = [\"http://www.talesofpanchatantra.com/the-bug-and-the-poor-flea\",\n",
    "    #        'http://www.talesofpanchatantra.com/elephants-and-the-king-of-mice']\n",
    "            \n",
    "\n",
    "    for e in all_links.findAll('a'):\n",
    "        u = e.get('href')\n",
    "        yield read_story(u)\n",
    "    \n",
    "    #for u in urls:\n",
    "    #    yield read_story(u)\n"
   ]
  },
  {
   "cell_type": "code",
   "execution_count": 76,
   "metadata": {},
   "outputs": [],
   "source": [
    "df = pd.DataFrame(gen_data(), columns=['title', 'moral', 'content', 'url'])\n",
    "df.to_csv(r\"C:\\Users\\patilni\\workdir\\ML\\units\\story_teller\\data\\panchtantra.csv\", index=False)"
   ]
  },
  {
   "cell_type": "code",
   "execution_count": 77,
   "metadata": {},
   "outputs": [
    {
     "data": {
      "text/plain": [
       "(60, 4)"
      ]
     },
     "execution_count": 77,
     "metadata": {},
     "output_type": "execute_result"
    }
   ],
   "source": [
    "df.shape"
   ]
  },
  {
   "cell_type": "code",
   "execution_count": 78,
   "metadata": {},
   "outputs": [
    {
     "data": {
      "text/html": [
       "<div>\n",
       "<style scoped>\n",
       "    .dataframe tbody tr th:only-of-type {\n",
       "        vertical-align: middle;\n",
       "    }\n",
       "\n",
       "    .dataframe tbody tr th {\n",
       "        vertical-align: top;\n",
       "    }\n",
       "\n",
       "    .dataframe thead th {\n",
       "        text-align: right;\n",
       "    }\n",
       "</style>\n",
       "<table border=\"1\" class=\"dataframe\">\n",
       "  <thead>\n",
       "    <tr style=\"text-align: right;\">\n",
       "      <th></th>\n",
       "      <th>title</th>\n",
       "      <th>moral</th>\n",
       "      <th>content</th>\n",
       "      <th>url</th>\n",
       "    </tr>\n",
       "  </thead>\n",
       "  <tbody>\n",
       "    <tr>\n",
       "      <th>0</th>\n",
       "      <td>THE MONKEY AND THE WEDGE</td>\n",
       "      <td>\"One, who interferes in other's work, surely c...</td>\n",
       "      <td>There was once a merchant who employed many ca...</td>\n",
       "      <td>http://www.talesofpanchatantra.com/the-monkey-...</td>\n",
       "    </tr>\n",
       "    <tr>\n",
       "      <th>1</th>\n",
       "      <td>THE JACKAL AND THE DRUM</td>\n",
       "      <td>\"Only the brave succeed in life\".</td>\n",
       "      <td>One day, a jackal called Gomaya was very hungr...</td>\n",
       "      <td>http://www.talesofpanchatantra.com/the-jackal-...</td>\n",
       "    </tr>\n",
       "    <tr>\n",
       "      <th>2</th>\n",
       "      <td>THE FALL AND RISE OF A MERCHANT</td>\n",
       "      <td>\"One should treat one and all, even the lowest...</td>\n",
       "      <td>In a city called Vardhamana, lived a very effi...</td>\n",
       "      <td>http://www.talesofpanchatantra.com/the-fall-an...</td>\n",
       "    </tr>\n",
       "    <tr>\n",
       "      <th>3</th>\n",
       "      <td>THE FOOLISH SAGE</td>\n",
       "      <td>\"Do not be taken in by the sweet words of a sw...</td>\n",
       "      <td>Once upon a time, there was a sage called Deva...</td>\n",
       "      <td>http://www.talesofpanchatantra.com/the-foolish...</td>\n",
       "    </tr>\n",
       "    <tr>\n",
       "      <th>4</th>\n",
       "      <td>FIGHTING GOATS AND THE JACKAL</td>\n",
       "      <td>\"Do not close your eyes to the impending dange...</td>\n",
       "      <td>One day while a sage was going through a jungl...</td>\n",
       "      <td>http://www.talesofpanchatantra.com/fighting-go...</td>\n",
       "    </tr>\n",
       "  </tbody>\n",
       "</table>\n",
       "</div>"
      ],
      "text/plain": [
       "                             title  \\\n",
       "0         THE MONKEY AND THE WEDGE   \n",
       "1          THE JACKAL AND THE DRUM   \n",
       "2  THE FALL AND RISE OF A MERCHANT   \n",
       "3                 THE FOOLISH SAGE   \n",
       "4    FIGHTING GOATS AND THE JACKAL   \n",
       "\n",
       "                                               moral  \\\n",
       "0  \"One, who interferes in other's work, surely c...   \n",
       "1                  \"Only the brave succeed in life\".   \n",
       "2  \"One should treat one and all, even the lowest...   \n",
       "3  \"Do not be taken in by the sweet words of a sw...   \n",
       "4  \"Do not close your eyes to the impending dange...   \n",
       "\n",
       "                                             content  \\\n",
       "0  There was once a merchant who employed many ca...   \n",
       "1  One day, a jackal called Gomaya was very hungr...   \n",
       "2  In a city called Vardhamana, lived a very effi...   \n",
       "3  Once upon a time, there was a sage called Deva...   \n",
       "4  One day while a sage was going through a jungl...   \n",
       "\n",
       "                                                 url  \n",
       "0  http://www.talesofpanchatantra.com/the-monkey-...  \n",
       "1  http://www.talesofpanchatantra.com/the-jackal-...  \n",
       "2  http://www.talesofpanchatantra.com/the-fall-an...  \n",
       "3  http://www.talesofpanchatantra.com/the-foolish...  \n",
       "4  http://www.talesofpanchatantra.com/fighting-go...  "
      ]
     },
     "execution_count": 78,
     "metadata": {},
     "output_type": "execute_result"
    }
   ],
   "source": [
    "df.head()"
   ]
  },
  {
   "cell_type": "code",
   "execution_count": null,
   "metadata": {},
   "outputs": [],
   "source": []
  }
 ],
 "metadata": {
  "kernelspec": {
   "display_name": "Python 3",
   "language": "python",
   "name": "python3"
  },
  "language_info": {
   "codemirror_mode": {
    "name": "ipython",
    "version": 3
   },
   "file_extension": ".py",
   "mimetype": "text/x-python",
   "name": "python",
   "nbconvert_exporter": "python",
   "pygments_lexer": "ipython3",
   "version": "3.6.5"
  }
 },
 "nbformat": 4,
 "nbformat_minor": 2
}
