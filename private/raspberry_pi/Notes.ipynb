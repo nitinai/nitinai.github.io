{
 "cells": [
  {
   "cell_type": "markdown",
   "metadata": {},
   "source": [
    "#### Install OS on raspberry pi\n",
    "\n",
    "Download latest version of Raspbian\n",
    "https://www.raspberrypi.org/downloads/\n",
    "\n",
    "Use Etcher for a simple way to create SD card with OS\n",
    "https://www.balena.io/etcher/\n",
    "\n",
    "#### General Purpose Input Output on the Raspberry Pi\n",
    "https://www.futurelearn.com/courses/physical-computing-raspberry-pi-python/9/steps/462926\n",
    "The GPIO pins are one way in which the Raspberry Pi can control and monitor the outside world by being connected to electronic circuits.\n",
    "\n",
    "The Pi can control LEDs, turning them on or off, drive motors, and interact with many other objects. It can also detect the pressing of a switch, change in temperature, or light, etc, by attaching kinds of sensors. We refer to all these activities, and more, as physical computing.\n",
    "\n",
    "GPIO\n",
    "Most models of the Raspberry Pi have 40 pins that look like this:\n",
    "\n",
    "GPIO pins\n",
    "\n",
    "These pins are a physical interface between the Raspberry Pi and the outside world. Using them, you can program the Raspberry Pi to switch devices on and off (output), or receive data from sensors and switches (input). Of the 40 pins, 26 are GPIO pins and the others are power or ground pins (plus two ID EEPROM pins which you should not play with unless you know your stuff!)\n",
    "\n",
    "\n",
    "LED Light Emitting Diode. A diode is a component that only lets current flow through it in one direction, a bit like a valve in a water pipe. \n"
   ]
  },
  {
   "cell_type": "code",
   "execution_count": null,
   "metadata": {},
   "outputs": [],
   "source": [
    "# Blinking the LED\n",
    "from gpiozero import LED\n",
    "from time import sleep\n",
    "\n",
    "red_led = LED(17)\n",
    "\n",
    "while True:\n",
    "    red_led.on()\n",
    "    sleep(1)\n",
    "    red_led.off()\n",
    "    sleep(1)\n",
    "    \n",
    "red_led.blink()\n",
    "\n",
    "red_led.toggle()\n",
    "red_led.is_lit()"
   ]
  },
  {
   "cell_type": "code",
   "execution_count": null,
   "metadata": {},
   "outputs": [],
   "source": [
    "# Detecting button press\n",
    "from gpiozero import Button\n",
    "btn = Button(4)\n",
    "\n",
    "while True:\n",
    "    btn.wait_for_press()\n",
    "    print('You pressed me')\n",
    "    btn.wait_for_release()\n",
    "    print('You released me')"
   ]
  },
  {
   "cell_type": "code",
   "execution_count": null,
   "metadata": {},
   "outputs": [],
   "source": [
    "# Turn off LED on button press\n",
    "from gpiozero import Button, LED\n",
    "from time import time, sleep\n",
    "from random import randint\n",
    "\n",
    "led = LED(17)\n",
    "btn = Button(4)\n",
    "\n",
    "while True:\n",
    "    sleep(randint(1,10))\n",
    "    led.on()\n",
    "    start = time()\n",
    "    btn.wait_for_press()\n",
    "    end = time()\n",
    "    led.off()\n",
    "    print(end - start)"
   ]
  },
  {
   "cell_type": "code",
   "execution_count": null,
   "metadata": {},
   "outputs": [],
   "source": [
    "# Program the robot\n",
    "from gpiozero import Robot\n",
    "robot = Robot(left = (7, 8), right = (9, 10))\n",
    "while True:\n",
    "    robot.forward()\n",
    "    sleep(3)\n",
    "    robot.stop()\n",
    "    robot.right()\n",
    "    sleep(1)\n",
    "    robot.stop()"
   ]
  }
 ],
 "metadata": {
  "kernelspec": {
   "display_name": "Python 3",
   "language": "python",
   "name": "python3"
  },
  "language_info": {
   "codemirror_mode": {
    "name": "ipython",
    "version": 3
   },
   "file_extension": ".py",
   "mimetype": "text/x-python",
   "name": "python",
   "nbconvert_exporter": "python",
   "pygments_lexer": "ipython3",
   "version": "3.6.5"
  }
 },
 "nbformat": 4,
 "nbformat_minor": 2
}
