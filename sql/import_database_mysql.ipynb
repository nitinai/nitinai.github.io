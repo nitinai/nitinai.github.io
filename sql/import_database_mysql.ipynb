{
 "cells": [
  {
   "cell_type": "markdown",
   "metadata": {},
   "source": [
    "---\n",
    "title: \"Import databse in MySQL server\"\n",
    "date: 2019-01-25T19:14:46+05:30\n",
    "draft: True\n",
    "author: \"Nitin Patil\"\n",
    "\n",
    "---"
   ]
  },
  {
   "cell_type": "markdown",
   "metadata": {},
   "source": [
    "The MySQL workbench supports the intellisense of auto-completion of commands. By default these are in lowercase. We can change them to uppercase from Edit-> Preferences\n",
    "\n",
    "![jpg](uppercase_intellisense.jpg)"
   ]
  },
  {
   "cell_type": "markdown",
   "metadata": {},
   "source": [
    "### Importing sample database\n",
    "\n",
    "We can import the sample database in MySQL. The Employees database is avialable from [this repo](https://github.com/datacharmer/test_db)."
   ]
  },
  {
   "cell_type": "code",
   "execution_count": null,
   "metadata": {},
   "outputs": [],
   "source": [
    "# clone the repo\n",
    "!git clone https://github.com/datacharmer/test_db.git"
   ]
  },
  {
   "cell_type": "markdown",
   "metadata": {},
   "source": [
    "#### Command line"
   ]
  },
  {
   "cell_type": "markdown",
   "metadata": {},
   "source": [
    "Change to repo dir"
   ]
  },
  {
   "cell_type": "markdown",
   "metadata": {},
   "source": [
    "To import the data into your MySQL instance, load the data through the `mysql` command-line tool"
   ]
  },
  {
   "cell_type": "code",
   "execution_count": 3,
   "metadata": {},
   "outputs": [
    {
     "name": "stderr",
     "output_type": "stream",
     "text": [
      "\u0007mysql: File 'C:\\mysql\\\\share\\charsets\\?.conf' not found (Errcode: 2)\n",
      "\u0007mysql: Character set '#255' is not a compiled character set and is not specified in the 'C:\\mysql\\\\share\\charsets\\Index' file\n",
      "ERROR 1043: Bad handshake\n"
     ]
    }
   ],
   "source": [
    "!mysql -t < employees.sql"
   ]
  },
  {
   "cell_type": "markdown",
   "metadata": {},
   "source": [
    "I received an error. To solve this tried to understand the details as follow, but no success in resolving issue."
   ]
  },
  {
   "cell_type": "markdown",
   "metadata": {},
   "source": [
    "##### mysql - The command line client"
   ]
  },
  {
   "cell_type": "markdown",
   "metadata": {},
   "source": [
    "`mysql` is a SQL shell to run querys in MySQL server. This program has many options that can be specified at startup. For a complete list of options, run this command"
   ]
  },
  {
   "cell_type": "code",
   "execution_count": 4,
   "metadata": {
    "scrolled": true
   },
   "outputs": [
    {
     "name": "stdout",
     "output_type": "stream",
     "text": [
      "mysql  Ver 11.15 Distrib 3.23.43, for Win95/Win98 (i32)\n",
      "Copyright (C) 2000 MySQL AB & MySQL Finland AB & TCX DataKonsult AB\n",
      "This software comes with ABSOLUTELY NO WARRANTY. This is free software,\n",
      "and you are welcome to modify and redistribute it under the GPL license\n",
      "\n",
      "Usage: mysql [OPTIONS] [database]\n",
      "\n",
      "  -?, --help\t\tDisplay this help and exit.\n",
      "  -A, --no-auto-rehash  No automatic rehashing. One has to use 'rehash' to\n",
      "\t\t\tget table and field completion. This gives a quicker\n",
      "\t\t\tstart of mysql and disables rehashing on reconnect.\n",
      "  -B, --batch\t\tPrint results with a tab as separator, each row on\n",
      "\t\t\ta new line. Doesn't use history file.\n",
      "  --character-sets-dir=...\n",
      "                        Directory where character sets are located.\n",
      "  -C, --compress\tUse compression in server/client protocol.\n",
      "  -D, --database=..\tDatabase to use.\n",
      "  --default-character-set=...\n",
      "                        Set the default character set.\n",
      "  -e, --execute=...     Execute command and quit. (Output like with --batch)\n",
      "  -E, --vertical        Print the output of a query (rows) vertically.\n",
      "  -f, --force           Continue even if we get an sql error.\n",
      "  -g, --no-named-commands\n",
      "\t\t\tNamed commands are disabled. Use \\* form only, or\n",
      "                        use named commands only in the beginning of a line\n",
      "                        ending with a semicolon (;) Since version 10.9 the\n",
      "                        client now starts with this option ENABLED by\n",
      "                        default! Disable with '-G'. Long format commands\n",
      "                        still work from the first line.\n",
      "  -G, --enable-named-commands\n",
      "                        Named commands are enabled. Opposite to -g.\n",
      "  -i, --ignore-space\tIgnore space after function names.\n",
      "  -h, --host=...\tConnect to host.\n",
      "  -H, --html\t\tProduce HTML output.\n",
      "  -L, --skip-line-numbers\n",
      "                        Don't write line number for errors.\n",
      "  --no-tee              Disable outfile. See interactive help (\\h) also.\n",
      "  -n, --unbuffered\tFlush buffer after each query.\n",
      "  -N, --skip-column-names\n",
      "                        Don't write column names in results.\n",
      "  -O, --set-variable var=option\n",
      "\t\t\tGive a variable an value. --help lists variables.\n",
      "  -o, --one-database\tOnly update the default database. This is useful\n",
      "\t\t\tfor skipping updates to other database in the update\n",
      "\t\t\tlog.\n",
      "  -p[password], --password[=...]\n",
      "\t\t\tPassword to use when connecting to server\n",
      "\t\t\tIf password is not given it's asked from the tty.\n",
      "  -W, --pipe\t\tUse named pipes to connect to server\n",
      "\n",
      "  -P, --port=...\tPort number to use for connection.\n",
      "  -q, --quick\t\tDon't cache result, print it row by row. This may\n",
      "\t\t\tslow down the server if the output is suspended.\n",
      "\t\t\tDoesn't use history file.\n",
      "  -r, --raw\t\tWrite fields without conversion. Used with --batch\n",
      "  -s, --silent\t\tBe more silent.\n",
      "  -S  --socket=...\tSocket file to use for connection.\n",
      "  -t, --table\t\tOutput in table format.\n",
      "  -T, --debug-info\tPrint some debug info at exit.\n",
      "  --tee=...             Append everything into outfile. See interactive help\n",
      "                        (\\h) also. Does not work in batch mode.\n",
      "  -u, --user=#\t\tUser for login if not current user.\n",
      "  -U, --safe-updates[=#], --i-am-a-dummy[=#]\n",
      "\t\t        Only allow UPDATE and DELETE that uses keys.\n",
      "  -v, --verbose\t\tWrite more. (-v -v -v gives the table output format)\n",
      "  -V, --version\t\tOutput version information and exit.\n",
      "  -w, --wait\t\tWait and retry if connection is down.\n",
      "\n",
      "Default options are read from the following files in the given order:\n",
      "C:\\windows\\my.ini C:\\my.cnf \n",
      "The following groups are read: mysql client\n",
      "The following options may be given as the first argument:\n",
      "--print-defaults\tPrint the program argument list and exit\n",
      "--no-defaults\t\tDon't read default options from any options file\n",
      "--defaults-file=#\tOnly read default options from the given file #\n",
      "--defaults-extra-file=# Read this file after the global files are read\n",
      "\n",
      "Possible variables for option --set-variable (-O) are:\n",
      "connect_timeout       current value: 0\n",
      "max_allowed_packet    current value: 16777216\n",
      "net_buffer_length     current value: 16384\n",
      "select_limit          current value: 1000\n",
      "max_join_size         current value: 1000000\n"
     ]
    }
   ],
   "source": [
    "!mysql --verbose --help"
   ]
  },
  {
   "cell_type": "markdown",
   "metadata": {},
   "source": [
    "MySQL Server also has a set of system variables that govern its operation as it runs. "
   ]
  },
  {
   "cell_type": "markdown",
   "metadata": {},
   "source": [
    "##### Using Option Files"
   ]
  },
  {
   "cell_type": "markdown",
   "metadata": {},
   "source": [
    "Most MySQL programs can read startup options from option files (sometimes called configuration files). Option files provide a convenient way to specify commonly used options so that they need not be entered on the command line each time you run a program. To find option file location on window refer [4]"
   ]
  },
  {
   "cell_type": "markdown",
   "metadata": {},
   "source": [
    "#### Workbench"
   ]
  },
  {
   "cell_type": "markdown",
   "metadata": {},
   "source": [
    "Alternativly we can import database from workbench.\n",
    "![import](data_import.png)"
   ]
  },
  {
   "cell_type": "markdown",
   "metadata": {},
   "source": [
    "### References\n",
    "1. [Stackoverflow answer for uppercase auto-complete](https://stackoverflow.com/a/20734702)\n",
    "- [Employees database](https://dev.mysql.com/doc/employee/en/)\n",
    "- [Option Files](https://dev.mysql.com/doc/refman/8.0/en/option-files.html)\n",
    "- [How to Find Location of MySQL my.ini file in Windows](https://www.youtube.com/watch?v=SvCAa2XuQhg)\n",
    "- https://dev.mysql.com/doc/refman/8.0/en/mysql.html"
   ]
  }
 ],
 "metadata": {
  "kernelspec": {
   "display_name": "Python 3",
   "language": "python",
   "name": "python3"
  },
  "language_info": {
   "codemirror_mode": {
    "name": "ipython",
    "version": 3
   },
   "file_extension": ".py",
   "mimetype": "text/x-python",
   "name": "python",
   "nbconvert_exporter": "python",
   "pygments_lexer": "ipython3",
   "version": "3.6.5"
  }
 },
 "nbformat": 4,
 "nbformat_minor": 2
}
